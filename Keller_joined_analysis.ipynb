{
 "cells": [
  {
   "cell_type": "code",
   "execution_count": 1,
   "id": "unauthorized-lesson",
   "metadata": {},
   "outputs": [],
   "source": [
    "import plotly.express as px\n",
    "import matplotlib.pyplot as plt\n",
    "import numpy as np\n",
    "import pandas as pd\n",
    "import datetime\n",
    "#pandas.read_excel('cat.xlsx', engine='openpyxl')"
   ]
  },
  {
   "cell_type": "code",
   "execution_count": 4,
   "id": "included-evans",
   "metadata": {},
   "outputs": [],
   "source": [
    "df1 = pd.read_csv(\"Keller GroundWorks CRM Data 1.txt\",usecols=['o_OPPORTUNITYID',\"ID\",\"o_OpportunityStatus\",\"o_ProjectManager\",\"o.OPENEDDATE\",\"o_CLOSEDDATE\",\"o_HC_STATE\",\"o_HC_PRIMARYTECHNIQUE\",\"o_HC_PRELIMPRICE\",\"o_HC_LATESTAMT\",\"o_HC_FUNDINGID\",\"o_HC_STRUCTURE\",\"o_HC_MARKETID\",\"sq_HC_ESTGMPCT\",\"sq_HC_AMOUNT\",\"sq_HC_ESTCOST\",\"sq_HC_ESTGM\",\"o_HC_TECHNIQUENAME\",\"o_TechniqueGroup\",\"br_SEGMENT\",\"gp_HasMoreTechniques\",\"sq_QUOTATIONEXPIRYDATE\",\"it_HC_INFLUENCERROLE\"], sep = \"\\t\", encoding = \"ISO-8859-1\", low_memory=False)"
   ]
  },
  {
   "cell_type": "code",
   "execution_count": 5,
   "id": "controlled-hawaii",
   "metadata": {},
   "outputs": [],
   "source": [
    "df2 = pd.read_csv(\"Keller GroundWorks CRM Data 2.txt\",usecols=['o_OPPORTUNITYID',\"ID\",\"o_OpportunityStatus\",\"o_ProjectManager\",\"o.OPENEDDATE\",\"o_CLOSEDDATE\",\"o_HC_STATE\",\"o_HC_PRIMARYTECHNIQUE\",\"o_HC_PRELIMPRICE\",\"o_HC_LATESTAMT\",\"o_HC_FUNDINGID\",\"o_HC_STRUCTURE\",\"o_HC_MARKETID\",\"sq_HC_ESTGMPCT\",\"sq_HC_AMOUNT\",\"sq_HC_ESTCOST\",\"sq_HC_ESTGM\",\"o_HC_TECHNIQUENAME\",\"o_TechniqueGroup\",\"br_SEGMENT\",\"gp_HasMoreTechniques\",\"sq_QUOTATIONEXPIRYDATE\",\"it_HC_INFLUENCERROLE\"], sep = \"\\t\", encoding = \"ISO-8859-1\", low_memory=False)"
   ]
  },
  {
   "cell_type": "code",
   "execution_count": 2,
   "id": "fabulous-christopher",
   "metadata": {},
   "outputs": [],
   "source": [
    "df3 = pd.read_csv(\"Keller GroundWorks CRM Data 1.txt\", sep = \"\\t\", encoding = \"ISO-8859-1\", low_memory=False)"
   ]
  },
  {
   "cell_type": "code",
   "execution_count": null,
   "id": "american-mercury",
   "metadata": {},
   "outputs": [],
   "source": [
    "#df2 = pd.read_csv(\"Keller GroundWorks CRM Data 2.txt\",usecols=['o_OPPORTUNITYID',\"ID\",\"o_OpportunityStatus\",\"o_ProjectManager\",\"o.OPENEDDATE\",\"o_CLOSEDDATE\",\"o_HC_STATE\",\"o_HC_PRIMARYTECHNIQUE\",\"o_HC_PRELIMPRICE\",\"o_HC_LATESTAMT\",\"o_HC_FUNDINGID\",\"o_HC_STRUCTURE\",\"o_HC_MARKETID\",\"sq_HC_ESTGMPCT\",\"sq_HC_AMOUNT\",\"sq_HC_ESTCOST\",\"sq_HC_ESTGM\",\"o_HC_TECHNIQUENAME\",\"o_TechniqueGroup\",\"br_SEGMENT\",\"gp_HasMoreTechniques\",\"sq_QUOTATIONEXPIRYDATE\",\"it_HC_INFLUENCERROLE\"], sep = \"\\t\", encoding = \"ISO-8859-1\", low_memory=False)"
   ]
  },
  {
   "cell_type": "code",
   "execution_count": 6,
   "id": "written-original",
   "metadata": {},
   "outputs": [],
   "source": [
    "df_1=df1\n",
    "df_2=df2"
   ]
  },
  {
   "cell_type": "code",
   "execution_count": 1184,
   "id": "concerned-looking",
   "metadata": {},
   "outputs": [],
   "source": [
    "df1=df_1\n",
    "df2=df_2"
   ]
  },
  {
   "cell_type": "code",
   "execution_count": 3,
   "id": "commercial-damages",
   "metadata": {},
   "outputs": [],
   "source": [
    "import dtale\n",
    "e = dtale.show(df3)\n",
    "e.open_browser()"
   ]
  },
  {
   "cell_type": "code",
   "execution_count": null,
   "id": "incorporated-vault",
   "metadata": {},
   "outputs": [],
   "source": []
  },
  {
   "cell_type": "code",
   "execution_count": 7,
   "id": "massive-spending",
   "metadata": {},
   "outputs": [],
   "source": [
    "df1 = df1[(df1[\"o_OpportunityStatus\"]==\"Won\") | (df1[\"o_OpportunityStatus\"]==\"Lost\")]\n",
    "df2 = df2[(df2[\"o_OpportunityStatus\"]==\"Won\") | (df2[\"o_OpportunityStatus\"]==\"Lost\")]"
   ]
  },
  {
   "cell_type": "code",
   "execution_count": 8,
   "id": "visible-keeping",
   "metadata": {},
   "outputs": [],
   "source": [
    "#df1 = df1[(df1[\"o_OpportunityStatus\"]==\"Won\")]\n",
    "#df2 = df2[(df2[\"o_OpportunityStatus\"]==\"Won\")]"
   ]
  },
  {
   "cell_type": "code",
   "execution_count": 8,
   "id": "vanilla-management",
   "metadata": {},
   "outputs": [],
   "source": [
    "df = pd.concat((df1,df2))"
   ]
  },
  {
   "cell_type": "code",
   "execution_count": 9,
   "id": "liked-complement",
   "metadata": {},
   "outputs": [],
   "source": [
    "duplicates = df.duplicated(['o_OPPORTUNITYID'], keep='first')\n",
    "df = df[~duplicates]\n",
    "if isinstance(df, (pd.DatetimeIndex, pd.MultiIndex)):\n",
    "\tdf = df.to_frame(index=False)\n",
    "\n",
    "# remove any pre-existing indices for ease of use in the D-Tale code, but this is not required\n",
    "df = df.reset_index().drop('index', axis=1, errors='ignore')\n",
    "df.columns = [str(c) for c in df.columns]  # update columns to strings in case they are numbers"
   ]
  },
  {
   "cell_type": "code",
   "execution_count": 10,
   "id": "norman-certification",
   "metadata": {},
   "outputs": [],
   "source": [
    "df_12=df[\"sq_HC_ESTGMPCT\"].astype(\"str\")\n",
    "df_123=df_12.apply(lambda x: x.replace(',', '.'))\n",
    "df_1234=df_123.astype(\"float\")\n",
    "df[\"sq_HC_ESTGMPCT\"]=df_1234"
   ]
  },
  {
   "cell_type": "code",
   "execution_count": 11,
   "id": "earlier-cardiff",
   "metadata": {},
   "outputs": [],
   "source": [
    "df_12=df[\"sq_HC_AMOUNT\"].astype(\"str\")\n",
    "df_123=df_12.apply(lambda x: x.replace(',', '.'))\n",
    "df_1234=df_123.astype(\"float\")\n",
    "df[\"sq_HC_AMOUNT\"]=df_1234"
   ]
  },
  {
   "cell_type": "code",
   "execution_count": 12,
   "id": "agricultural-borough",
   "metadata": {},
   "outputs": [],
   "source": [
    "df_12=df[\"sq_HC_ESTCOST\"].astype(\"str\")\n",
    "df_123=df_12.apply(lambda x: x.replace(',', '.'))\n",
    "df_1234=df_123.astype(\"float\")\n",
    "df[\"sq_HC_ESTCOST\"]=df_1234"
   ]
  },
  {
   "cell_type": "code",
   "execution_count": 13,
   "id": "activated-distributor",
   "metadata": {},
   "outputs": [],
   "source": [
    "df_12=df[\"sq_HC_ESTGM\"].astype(\"str\")\n",
    "df_123=df_12.apply(lambda x: x.replace(',', '.'))\n",
    "df_1234=df_123.astype(\"float\")\n",
    "df[\"sq_HC_ESTGM\"]=df_1234"
   ]
  },
  {
   "cell_type": "code",
   "execution_count": 14,
   "id": "packed-flashing",
   "metadata": {},
   "outputs": [],
   "source": [
    "df[\"sq_HC_AMOUNT\"].dropna(how='any',inplace=True)\n",
    "df[\"sq_HC_ESTCOST\"].dropna(how='any',inplace=True)\n",
    "df[\"sq_HC_ESTGM\"].dropna(how='any',inplace=True)\n",
    "df[\"sq_HC_ESTGMPCT\"].dropna(how='any',inplace=True)"
   ]
  },
  {
   "cell_type": "code",
   "execution_count": 15,
   "id": "plain-bidder",
   "metadata": {},
   "outputs": [],
   "source": [
    "df_12=df[\"o_HC_PRELIMPRICE\"].astype(\"str\")\n",
    "df_123=df_12.apply(lambda x: x.replace(',', '.'))\n",
    "df_1234=df_123.astype(\"float\")\n",
    "df[\"o_HC_PRELIMPRICE\"]=df_1234"
   ]
  },
  {
   "cell_type": "code",
   "execution_count": 16,
   "id": "amino-musician",
   "metadata": {},
   "outputs": [],
   "source": [
    "df_12=df[\"o_HC_LATESTAMT\"].astype(\"str\")\n",
    "df_123=df_12.apply(lambda x: x.replace(',', '.'))\n",
    "df_1234=df_123.astype(\"float\")\n",
    "df[\"o_HC_LATESTAMT\"]=df_1234"
   ]
  },
  {
   "cell_type": "code",
   "execution_count": 17,
   "id": "married-dispute",
   "metadata": {},
   "outputs": [],
   "source": [
    "df_12=df[\"o_HC_PRIMARYTECHNIQUE\"].astype(\"str\")\n",
    "df_123=df_12.apply(lambda x: x[1:4])\n",
    "#df_1234=df_123.astype(\"int\")\n",
    "df[\"o_HC_PRIMARYTECHNIQUE\"]=df_123\n",
    "df=df[df[\"o_HC_PRIMARYTECHNIQUE\"]!=\"an\"]\n",
    "df=df[df[\"o_HC_PRIMARYTECHNIQUE\"]!=\"eve\"]"
   ]
  },
  {
   "cell_type": "code",
   "execution_count": 18,
   "id": "sustained-independence",
   "metadata": {},
   "outputs": [],
   "source": [
    "df[\"sq_HC_AMOUNT\"].fillna(method=\"ffill\",inplace=True)\n",
    "df[\"sq_HC_ESTCOST\"].fillna(method=\"ffill\",inplace=True)\n",
    "df[\"sq_HC_ESTGM\"].fillna(method=\"ffill\",inplace=True)\n",
    "df[\"sq_HC_ESTGMPCT\"].fillna(method=\"ffill\",inplace=True)"
   ]
  },
  {
   "cell_type": "code",
   "execution_count": 19,
   "id": "complimentary-inspiration",
   "metadata": {},
   "outputs": [],
   "source": [
    "df=df[df['sq_HC_ESTGM']>=0]"
   ]
  },
  {
   "cell_type": "code",
   "execution_count": 20,
   "id": "psychological-supervision",
   "metadata": {},
   "outputs": [
    {
     "name": "stderr",
     "output_type": "stream",
     "text": [
      "<ipython-input-20-375ef5ca348e>:2: SettingWithCopyWarning:\n",
      "\n",
      "\n",
      "A value is trying to be set on a copy of a slice from a DataFrame\n",
      "\n",
      "See the caveats in the documentation: http://pandas.pydata.org/pandas-docs/stable/user_guide/indexing.html#returning-a-view-versus-a-copy\n",
      "\n",
      "<ipython-input-20-375ef5ca348e>:3: SettingWithCopyWarning:\n",
      "\n",
      "\n",
      "A value is trying to be set on a copy of a slice from a DataFrame\n",
      "\n",
      "See the caveats in the documentation: http://pandas.pydata.org/pandas-docs/stable/user_guide/indexing.html#returning-a-view-versus-a-copy\n",
      "\n",
      "<ipython-input-20-375ef5ca348e>:4: SettingWithCopyWarning:\n",
      "\n",
      "\n",
      "A value is trying to be set on a copy of a slice from a DataFrame\n",
      "\n",
      "See the caveats in the documentation: http://pandas.pydata.org/pandas-docs/stable/user_guide/indexing.html#returning-a-view-versus-a-copy\n",
      "\n",
      "<ipython-input-20-375ef5ca348e>:5: SettingWithCopyWarning:\n",
      "\n",
      "\n",
      "A value is trying to be set on a copy of a slice from a DataFrame\n",
      "\n",
      "See the caveats in the documentation: http://pandas.pydata.org/pandas-docs/stable/user_guide/indexing.html#returning-a-view-versus-a-copy\n",
      "\n"
     ]
    }
   ],
   "source": [
    "df[\"o_HC_FUNDINGID\"][df[\"o_HC_FUNDINGID\"]==\"PRIvate\"]=\"Private\"\n",
    "df[\"o_HC_FUNDINGID\"][df[\"o_HC_FUNDINGID\"]==\"fed/State\"]=\"Fed/State\"\n",
    "df[\"o_HC_FUNDINGID\"][df[\"o_HC_FUNDINGID\"]==\"local\"]=\"Local\"\n",
    "df[\"o_HC_FUNDINGID\"][df[\"o_HC_FUNDINGID\"]==\"private\"]=\"Private\"\n",
    "df[\"o_HC_FUNDINGID\"][df[\"o_HC_FUNDINGID\"]==\"state\"]=\"State\"\n",
    "df=df[df[\"o_HC_FUNDINGID\"]!=\"Canopy\"]"
   ]
  },
  {
   "cell_type": "code",
   "execution_count": 1101,
   "id": "australian-appliance",
   "metadata": {},
   "outputs": [],
   "source": [
    "df[\"o_HC_FUNDINGID\"].dropna(inplace=True)"
   ]
  },
  {
   "cell_type": "code",
   "execution_count": 1102,
   "id": "boring-floor",
   "metadata": {},
   "outputs": [
    {
     "data": {
      "text/plain": [
       "0       Private\n",
       "1       Private\n",
       "2     Fed/State\n",
       "3     Fed/State\n",
       "4     Fed/State\n",
       "5       Federal\n",
       "8       Private\n",
       "9       Private\n",
       "10      Private\n",
       "11      Private\n",
       "Name: o_HC_FUNDINGID, dtype: object"
      ]
     },
     "execution_count": 1102,
     "metadata": {},
     "output_type": "execute_result"
    }
   ],
   "source": [
    "df[\"o_HC_FUNDINGID\"].head(10)"
   ]
  },
  {
   "cell_type": "code",
   "execution_count": 1060,
   "id": "artificial-international",
   "metadata": {},
   "outputs": [
    {
     "ename": "KeyError",
     "evalue": "'br_SEGMENT'",
     "output_type": "error",
     "traceback": [
      "\u001b[1;31m---------------------------------------------------------------------------\u001b[0m",
      "\u001b[1;31mKeyError\u001b[0m                                  Traceback (most recent call last)",
      "\u001b[1;32m<ipython-input-1060-38b513024c4d>\u001b[0m in \u001b[0;36m<module>\u001b[1;34m\u001b[0m\n\u001b[1;32m----> 1\u001b[1;33m \u001b[0mdf\u001b[0m\u001b[1;33m=\u001b[0m\u001b[0mdf\u001b[0m\u001b[1;33m[\u001b[0m\u001b[1;34m'br_SEGMENT'\u001b[0m\u001b[1;33m]\u001b[0m\u001b[1;33m.\u001b[0m\u001b[0mdropna\u001b[0m\u001b[1;33m(\u001b[0m\u001b[1;33m)\u001b[0m\u001b[1;33m\u001b[0m\u001b[1;33m\u001b[0m\u001b[0m\n\u001b[0m",
      "\u001b[1;32mD:\\ANACONDA\\lib\\site-packages\\pandas\\core\\series.py\u001b[0m in \u001b[0;36m__getitem__\u001b[1;34m(self, key)\u001b[0m\n\u001b[0;32m   1069\u001b[0m         \u001b[0mkey\u001b[0m \u001b[1;33m=\u001b[0m \u001b[0mcom\u001b[0m\u001b[1;33m.\u001b[0m\u001b[0mapply_if_callable\u001b[0m\u001b[1;33m(\u001b[0m\u001b[0mkey\u001b[0m\u001b[1;33m,\u001b[0m \u001b[0mself\u001b[0m\u001b[1;33m)\u001b[0m\u001b[1;33m\u001b[0m\u001b[1;33m\u001b[0m\u001b[0m\n\u001b[0;32m   1070\u001b[0m         \u001b[1;32mtry\u001b[0m\u001b[1;33m:\u001b[0m\u001b[1;33m\u001b[0m\u001b[1;33m\u001b[0m\u001b[0m\n\u001b[1;32m-> 1071\u001b[1;33m             \u001b[0mresult\u001b[0m \u001b[1;33m=\u001b[0m \u001b[0mself\u001b[0m\u001b[1;33m.\u001b[0m\u001b[0mindex\u001b[0m\u001b[1;33m.\u001b[0m\u001b[0mget_value\u001b[0m\u001b[1;33m(\u001b[0m\u001b[0mself\u001b[0m\u001b[1;33m,\u001b[0m \u001b[0mkey\u001b[0m\u001b[1;33m)\u001b[0m\u001b[1;33m\u001b[0m\u001b[1;33m\u001b[0m\u001b[0m\n\u001b[0m\u001b[0;32m   1072\u001b[0m \u001b[1;33m\u001b[0m\u001b[0m\n\u001b[0;32m   1073\u001b[0m             \u001b[1;32mif\u001b[0m \u001b[1;32mnot\u001b[0m \u001b[0mis_scalar\u001b[0m\u001b[1;33m(\u001b[0m\u001b[0mresult\u001b[0m\u001b[1;33m)\u001b[0m\u001b[1;33m:\u001b[0m\u001b[1;33m\u001b[0m\u001b[1;33m\u001b[0m\u001b[0m\n",
      "\u001b[1;32mD:\\ANACONDA\\lib\\site-packages\\pandas\\core\\indexes\\base.py\u001b[0m in \u001b[0;36mget_value\u001b[1;34m(self, series, key)\u001b[0m\n\u001b[0;32m   4728\u001b[0m         \u001b[0mk\u001b[0m \u001b[1;33m=\u001b[0m \u001b[0mself\u001b[0m\u001b[1;33m.\u001b[0m\u001b[0m_convert_scalar_indexer\u001b[0m\u001b[1;33m(\u001b[0m\u001b[0mk\u001b[0m\u001b[1;33m,\u001b[0m \u001b[0mkind\u001b[0m\u001b[1;33m=\u001b[0m\u001b[1;34m\"getitem\"\u001b[0m\u001b[1;33m)\u001b[0m\u001b[1;33m\u001b[0m\u001b[1;33m\u001b[0m\u001b[0m\n\u001b[0;32m   4729\u001b[0m         \u001b[1;32mtry\u001b[0m\u001b[1;33m:\u001b[0m\u001b[1;33m\u001b[0m\u001b[1;33m\u001b[0m\u001b[0m\n\u001b[1;32m-> 4730\u001b[1;33m             \u001b[1;32mreturn\u001b[0m \u001b[0mself\u001b[0m\u001b[1;33m.\u001b[0m\u001b[0m_engine\u001b[0m\u001b[1;33m.\u001b[0m\u001b[0mget_value\u001b[0m\u001b[1;33m(\u001b[0m\u001b[0ms\u001b[0m\u001b[1;33m,\u001b[0m \u001b[0mk\u001b[0m\u001b[1;33m,\u001b[0m \u001b[0mtz\u001b[0m\u001b[1;33m=\u001b[0m\u001b[0mgetattr\u001b[0m\u001b[1;33m(\u001b[0m\u001b[0mseries\u001b[0m\u001b[1;33m.\u001b[0m\u001b[0mdtype\u001b[0m\u001b[1;33m,\u001b[0m \u001b[1;34m\"tz\"\u001b[0m\u001b[1;33m,\u001b[0m \u001b[1;32mNone\u001b[0m\u001b[1;33m)\u001b[0m\u001b[1;33m)\u001b[0m\u001b[1;33m\u001b[0m\u001b[1;33m\u001b[0m\u001b[0m\n\u001b[0m\u001b[0;32m   4731\u001b[0m         \u001b[1;32mexcept\u001b[0m \u001b[0mKeyError\u001b[0m \u001b[1;32mas\u001b[0m \u001b[0me1\u001b[0m\u001b[1;33m:\u001b[0m\u001b[1;33m\u001b[0m\u001b[1;33m\u001b[0m\u001b[0m\n\u001b[0;32m   4732\u001b[0m             \u001b[1;32mif\u001b[0m \u001b[0mlen\u001b[0m\u001b[1;33m(\u001b[0m\u001b[0mself\u001b[0m\u001b[1;33m)\u001b[0m \u001b[1;33m>\u001b[0m \u001b[1;36m0\u001b[0m \u001b[1;32mand\u001b[0m \u001b[1;33m(\u001b[0m\u001b[0mself\u001b[0m\u001b[1;33m.\u001b[0m\u001b[0mholds_integer\u001b[0m\u001b[1;33m(\u001b[0m\u001b[1;33m)\u001b[0m \u001b[1;32mor\u001b[0m \u001b[0mself\u001b[0m\u001b[1;33m.\u001b[0m\u001b[0mis_boolean\u001b[0m\u001b[1;33m(\u001b[0m\u001b[1;33m)\u001b[0m\u001b[1;33m)\u001b[0m\u001b[1;33m:\u001b[0m\u001b[1;33m\u001b[0m\u001b[1;33m\u001b[0m\u001b[0m\n",
      "\u001b[1;32mpandas\\_libs\\index.pyx\u001b[0m in \u001b[0;36mpandas._libs.index.IndexEngine.get_value\u001b[1;34m()\u001b[0m\n",
      "\u001b[1;32mpandas\\_libs\\index.pyx\u001b[0m in \u001b[0;36mpandas._libs.index.IndexEngine.get_value\u001b[1;34m()\u001b[0m\n",
      "\u001b[1;32mpandas\\_libs\\index.pyx\u001b[0m in \u001b[0;36mpandas._libs.index.IndexEngine.get_loc\u001b[1;34m()\u001b[0m\n",
      "\u001b[1;32mpandas\\_libs\\index_class_helper.pxi\u001b[0m in \u001b[0;36mpandas._libs.index.Int64Engine._check_type\u001b[1;34m()\u001b[0m\n",
      "\u001b[1;31mKeyError\u001b[0m: 'br_SEGMENT'"
     ]
    }
   ],
   "source": [
    "df=df['br_SEGMENT'].dropna()"
   ]
  },
  {
   "cell_type": "code",
   "execution_count": 1147,
   "id": "contrary-recommendation",
   "metadata": {},
   "outputs": [],
   "source": [
    "#df=df[['o_OpportunityStatus',\"o_HC_FUNDINGID\",\"br_SEGMENT\"]]"
   ]
  },
  {
   "cell_type": "code",
   "execution_count": 23,
   "id": "frequent-opera",
   "metadata": {},
   "outputs": [],
   "source": [
    "import dtale\n",
    "d = dtale.show(df)\n",
    "d.open_browser()"
   ]
  },
  {
   "cell_type": "code",
   "execution_count": 1125,
   "id": "civilian-mississippi",
   "metadata": {},
   "outputs": [
    {
     "data": {
      "text/plain": [
       "array(['Private', 'Fed/State', 'Federal', 'State', 'Local'], dtype=object)"
      ]
     },
     "execution_count": 1125,
     "metadata": {},
     "output_type": "execute_result"
    }
   ],
   "source": [
    "df[\"o_HC_FUNDINGID\"].unique()"
   ]
  },
  {
   "cell_type": "code",
   "execution_count": 973,
   "id": "married-advantage",
   "metadata": {},
   "outputs": [
    {
     "data": {
      "text/plain": [
       "0          Private\n",
       "1          Private\n",
       "2        Fed/State\n",
       "3        Fed/State\n",
       "4        Fed/State\n",
       "           ...    \n",
       "32313      Private\n",
       "32314      Private\n",
       "32315      Private\n",
       "32316      Private\n",
       "32317        Local\n",
       "Name: o_HC_FUNDINGID, Length: 27779, dtype: object"
      ]
     },
     "execution_count": 973,
     "metadata": {},
     "output_type": "execute_result"
    }
   ],
   "source": [
    "df['o_HC_FUNDINGID']"
   ]
  },
  {
   "cell_type": "code",
   "execution_count": 1126,
   "id": "adverse-cameroon",
   "metadata": {},
   "outputs": [
    {
     "data": {
      "text/plain": [
       "0    3\n",
       "1    3\n",
       "2    0\n",
       "3    0\n",
       "4    0\n",
       "5    1\n",
       "6    5\n",
       "7    5\n",
       "8    3\n",
       "9    3\n",
       "Name: o_HC_FUNDINGID, dtype: int32"
      ]
     },
     "execution_count": 1126,
     "metadata": {},
     "output_type": "execute_result"
    }
   ],
   "source": [
    "from sklearn.preprocessing import LabelEncoder\n",
    "\n",
    "ord_enc = LabelEncoder()\n",
    "df['o_HC_FUNDINGID'] = ord_enc.fit_transform(df[['o_HC_FUNDINGID']])\n",
    "df['o_HC_FUNDINGID'].head(10)"
   ]
  },
  {
   "cell_type": "code",
   "execution_count": 1127,
   "id": "bacterial-memory",
   "metadata": {},
   "outputs": [
    {
     "data": {
      "text/plain": [
       "0          Contractor/CM\n",
       "1          Contractor/CM\n",
       "2          Contractor/CM\n",
       "3          Contractor/CM\n",
       "4          Contractor/CM\n",
       "              ...       \n",
       "32313      Contractor/CM\n",
       "32314      Contractor/CM\n",
       "32315    Owner/Developer\n",
       "32316      Contractor/CM\n",
       "32317          Education\n",
       "Name: br_SEGMENT, Length: 31619, dtype: object"
      ]
     },
     "execution_count": 1127,
     "metadata": {},
     "output_type": "execute_result"
    }
   ],
   "source": [
    "df['br_SEGMENT']"
   ]
  },
  {
   "cell_type": "code",
   "execution_count": 1128,
   "id": "searching-trial",
   "metadata": {},
   "outputs": [
    {
     "data": {
      "text/plain": [
       "0     7\n",
       "1     7\n",
       "2     7\n",
       "3     7\n",
       "4     7\n",
       "5    10\n",
       "6    16\n",
       "7    16\n",
       "8     7\n",
       "9     7\n",
       "Name: br_SEGMENT, dtype: int32"
      ]
     },
     "execution_count": 1128,
     "metadata": {},
     "output_type": "execute_result"
    }
   ],
   "source": [
    "ord_enc = LabelEncoder()\n",
    "df['br_SEGMENT'] = ord_enc.fit_transform(df[['br_SEGMENT']])\n",
    "df['br_SEGMENT'].head(10)"
   ]
  },
  {
   "cell_type": "code",
   "execution_count": 1129,
   "id": "fewer-syndrome",
   "metadata": {},
   "outputs": [
    {
     "data": {
      "text/plain": [
       "array([3, 0, 1, 5, 4, 2], dtype=int64)"
      ]
     },
     "execution_count": 1129,
     "metadata": {},
     "output_type": "execute_result"
    }
   ],
   "source": [
    "df[\"o_HC_FUNDINGID\"].unique()"
   ]
  },
  {
   "cell_type": "code",
   "execution_count": 1130,
   "id": "fabulous-product",
   "metadata": {},
   "outputs": [
    {
     "data": {
      "text/plain": [
       "array([ 7, 10, 16,  3, 14,  6,  5,  8, 13, 12,  1,  4,  9, 15,  2,  0, 11],\n",
       "      dtype=int64)"
      ]
     },
     "execution_count": 1130,
     "metadata": {},
     "output_type": "execute_result"
    }
   ],
   "source": [
    "df['br_SEGMENT'].unique()"
   ]
  },
  {
   "cell_type": "markdown",
   "id": "crucial-joint",
   "metadata": {},
   "source": [
    "# A"
   ]
  },
  {
   "cell_type": "code",
   "execution_count": 21,
   "id": "distinguished-rough",
   "metadata": {},
   "outputs": [
    {
     "name": "stderr",
     "output_type": "stream",
     "text": [
      "2021-06-18 12:49:56,302 - INFO     - NumExpr defaulting to 4 threads.\n"
     ]
    }
   ],
   "source": [
    "from sklearn.preprocessing import LabelEncoder\n",
    "is_nan = df['o_OpportunityStatus'].isnull()\n",
    "df['o_OpportunityStatus']=pd.Series(LabelEncoder().fit_transform(df['o_OpportunityStatus']), index=df.index).where(~is_nan, 0)"
   ]
  },
  {
   "cell_type": "code",
   "execution_count": 22,
   "id": "falling-combine",
   "metadata": {},
   "outputs": [],
   "source": [
    "from sklearn.preprocessing import LabelEncoder\n",
    "is_nan = df['o_HC_STATE'].isnull()\n",
    "df['o_HC_STATE']=pd.Series(LabelEncoder().fit_transform(df['o_HC_STATE']), index=df.index).where(~is_nan, 0)"
   ]
  },
  {
   "cell_type": "code",
   "execution_count": 23,
   "id": "respiratory-tobago",
   "metadata": {},
   "outputs": [],
   "source": [
    "from sklearn.preprocessing import LabelEncoder\n",
    "is_nan = df['o_HC_FUNDINGID'].isnull()\n",
    "df['o_HC_FUNDINGID']=pd.Series(LabelEncoder().fit_transform(df['o_HC_FUNDINGID']), index=df.index).where(~is_nan, 0)"
   ]
  },
  {
   "cell_type": "code",
   "execution_count": 24,
   "id": "cognitive-generic",
   "metadata": {},
   "outputs": [],
   "source": [
    "from sklearn.preprocessing import LabelEncoder\n",
    "is_nan = df['o_HC_MARKETID'].isnull()\n",
    "df['o_HC_MARKETID']=pd.Series(LabelEncoder().fit_transform(df['o_HC_MARKETID']), index=df.index).where(~is_nan, 0)"
   ]
  },
  {
   "cell_type": "code",
   "execution_count": 25,
   "id": "periodic-physics",
   "metadata": {},
   "outputs": [],
   "source": [
    "from sklearn.preprocessing import LabelEncoder\n",
    "is_nan = df['o_TechniqueGroup'].isnull()\n",
    "df['o_TechniqueGroup']=pd.Series(LabelEncoder().fit_transform(df['o_TechniqueGroup']), index=df.index).where(~is_nan, 0)"
   ]
  },
  {
   "cell_type": "code",
   "execution_count": 26,
   "id": "changing-yesterday",
   "metadata": {},
   "outputs": [],
   "source": [
    "from sklearn.preprocessing import LabelEncoder\n",
    "is_nan = df['br_SEGMENT'].isnull()\n",
    "df['br_SEGMENT']=pd.Series(LabelEncoder().fit_transform(df['br_SEGMENT']), index=df.index).where(~is_nan, 0)"
   ]
  },
  {
   "cell_type": "code",
   "execution_count": 27,
   "id": "unlikely-israel",
   "metadata": {},
   "outputs": [],
   "source": [
    "from sklearn.preprocessing import LabelEncoder\n",
    "is_nan = df[\"o_ProjectManager\"].isnull()\n",
    "df[\"o_ProjectManager\"]=pd.Series(LabelEncoder().fit_transform(df[\"o_ProjectManager\"]), index=df.index).where(~is_nan, 0)"
   ]
  },
  {
   "cell_type": "code",
   "execution_count": 28,
   "id": "historical-privacy",
   "metadata": {},
   "outputs": [],
   "source": [
    "from sklearn.preprocessing import LabelEncoder\n",
    "is_nan = df[\"o_HC_STRUCTURE\"].isnull()\n",
    "df[\"o_HC_STRUCTURE\"]=pd.Series(LabelEncoder().fit_transform(df[\"o_HC_STRUCTURE\"]), index=df.index).where(~is_nan, 0)"
   ]
  },
  {
   "cell_type": "code",
   "execution_count": 29,
   "id": "religious-energy",
   "metadata": {},
   "outputs": [],
   "source": [
    "from sklearn.preprocessing import LabelEncoder\n",
    "is_nan = df[\"o_HC_TECHNIQUENAME\"].isnull()\n",
    "df[\"o_HC_TECHNIQUENAME\"]=pd.Series(LabelEncoder().fit_transform(df[\"o_HC_TECHNIQUENAME\"]), index=df.index).where(~is_nan, 0)"
   ]
  },
  {
   "cell_type": "code",
   "execution_count": 30,
   "id": "modular-cemetery",
   "metadata": {},
   "outputs": [],
   "source": [
    "from sklearn.preprocessing import LabelEncoder\n",
    "is_nan = df[\"gp_HasMoreTechniques\"].isnull()\n",
    "df[\"gp_HasMoreTechniques\"]=pd.Series(LabelEncoder().fit_transform(df[\"gp_HasMoreTechniques\"]), index=df.index).where(~is_nan, 0)"
   ]
  },
  {
   "cell_type": "code",
   "execution_count": 31,
   "id": "union-gamma",
   "metadata": {},
   "outputs": [],
   "source": [
    "from sklearn.preprocessing import LabelEncoder\n",
    "is_nan = df[\"it_HC_INFLUENCERROLE\"].isnull()\n",
    "df[\"it_HC_INFLUENCERROLE\"]=pd.Series(LabelEncoder().fit_transform(df[\"it_HC_INFLUENCERROLE\"]), index=df.index).where(~is_nan, 0)"
   ]
  },
  {
   "cell_type": "code",
   "execution_count": 32,
   "id": "difficult-annual",
   "metadata": {},
   "outputs": [],
   "source": [
    "df_12=df[\"o.OPENEDDATE\"]\n",
    "df_123=df_12.apply(lambda x: x.split(' ')[0])\n",
    "df[\"o.OPENEDDATE\"]=df_123"
   ]
  },
  {
   "cell_type": "code",
   "execution_count": 33,
   "id": "understanding-georgia",
   "metadata": {},
   "outputs": [],
   "source": [
    "df_12=df[\"o_CLOSEDDATE\"]\n",
    "df_123=df_12.apply(lambda x: x.split(' ')[0])\n",
    "df[\"o_CLOSEDDATE\"]=df_123"
   ]
  },
  {
   "cell_type": "code",
   "execution_count": 767,
   "id": "severe-spoke",
   "metadata": {},
   "outputs": [],
   "source": [
    "#df_12=df[\"sq_QUOTATIONEXPIRYDATE\"]\n",
    "#df_123=df_12.apply(lambda x: x.split(' ')[0])\n",
    "#df[\"sq_QUOTATIONEXPIRYDATE\"]=df_123"
   ]
  },
  {
   "cell_type": "code",
   "execution_count": 768,
   "id": "dental-jason",
   "metadata": {},
   "outputs": [
    {
     "data": {
      "text/plain": [
       "0        02/04/2020\n",
       "1        02/04/2020\n",
       "2        01/01/1900\n",
       "3        10/03/2020\n",
       "4        08/03/2021\n",
       "            ...    \n",
       "32313    26/12/2019\n",
       "32314    01/01/1900\n",
       "32315    01/01/1900\n",
       "32316    01/01/1900\n",
       "32317    01/01/1900\n",
       "Name: o_CLOSEDDATE, Length: 31862, dtype: object"
      ]
     },
     "execution_count": 768,
     "metadata": {},
     "output_type": "execute_result"
    }
   ],
   "source": [
    "df[\"o_CLOSEDDATE\"]"
   ]
  },
  {
   "cell_type": "code",
   "execution_count": 769,
   "id": "intellectual-input",
   "metadata": {},
   "outputs": [],
   "source": [
    "def my_date(x):\n",
    "    if x == \"01/01/1900\":\n",
    "        x =\"20/05/2021\"\n",
    "    return x"
   ]
  },
  {
   "cell_type": "code",
   "execution_count": 770,
   "id": "supposed-butler",
   "metadata": {},
   "outputs": [],
   "source": [
    "def my_date1(x,y):\n",
    "    for i in x.index:\n",
    "        if x.iloc[i] == \"01/01/1900\":\n",
    "            x.iloc[i] = y.iloc[i]\n",
    "        return x"
   ]
  },
  {
   "cell_type": "code",
   "execution_count": 771,
   "id": "asian-mechanism",
   "metadata": {},
   "outputs": [],
   "source": [
    "#df[\"o_CLOSEDDATE\"]=my_date1(df[\"o_CLOSEDDATE\"],df[\"sq_QUOTATIONEXPIRYDATE\"])"
   ]
  },
  {
   "cell_type": "code",
   "execution_count": 772,
   "id": "touched-width",
   "metadata": {},
   "outputs": [],
   "source": [
    "df[\"o_CLOSEDDATE\"]=df[\"o_CLOSEDDATE\"].apply(lambda x: my_date(x))"
   ]
  },
  {
   "cell_type": "code",
   "execution_count": 773,
   "id": "remarkable-circle",
   "metadata": {},
   "outputs": [],
   "source": [
    "df[\"o.OPENEDDATE\"]=pd.to_datetime(df['o.OPENEDDATE'])\n",
    "df[\"o_CLOSEDDATE\"]=pd.to_datetime(df[\"o_CLOSEDDATE\"])"
   ]
  },
  {
   "cell_type": "code",
   "execution_count": 774,
   "id": "specialized-simon",
   "metadata": {},
   "outputs": [],
   "source": [
    "df[\"how_long\"]=df[\"o_CLOSEDDATE\"] - df[\"o.OPENEDDATE\"]"
   ]
  },
  {
   "cell_type": "code",
   "execution_count": 32,
   "id": "martial-argentina",
   "metadata": {},
   "outputs": [],
   "source": [
    "df[\"sq_HC_AMOUNT\"].fillna(method=\"ffill\",inplace=True)\n",
    "df[\"sq_HC_ESTCOST\"].fillna(method=\"ffill\",inplace=True)\n",
    "df[\"sq_HC_ESTGM\"].fillna(method=\"ffill\",inplace=True)\n",
    "df[\"sq_HC_ESTGMPCT\"].fillna(method=\"ffill\",inplace=True)"
   ]
  },
  {
   "cell_type": "code",
   "execution_count": 776,
   "id": "brazilian-treasurer",
   "metadata": {},
   "outputs": [],
   "source": [
    "df[\"how_long\"]=df[\"how_long\"].dt.days"
   ]
  },
  {
   "cell_type": "code",
   "execution_count": 34,
   "id": "hired-signature",
   "metadata": {},
   "outputs": [],
   "source": [
    "df=df[df['sq_HC_ESTGM']>=0]"
   ]
  },
  {
   "cell_type": "code",
   "execution_count": 778,
   "id": "anticipated-america",
   "metadata": {},
   "outputs": [],
   "source": [
    "#df[\"o_HC_FUNDINGID\"][df[\"o_HC_FUNDINGID\"]==\"PRIvate\"]=\"Private\"\n",
    "#df[\"o_HC_FUNDINGID\"][df[\"o_HC_FUNDINGID\"]==\"fed/State\"]=\"Fed/State\"\n",
    "#df[\"o_HC_FUNDINGID\"][df[\"o_HC_FUNDINGID\"]==\"local\"]=\"Local\"\n",
    "#df[\"o_HC_FUNDINGID\"][df[\"o_HC_FUNDINGID\"]==\"private\"]=\"Private\"\n",
    "#df[\"o_HC_FUNDINGID\"][df[\"o_HC_FUNDINGID\"]==\"state\"]=\"State\"\n",
    "#df[df[\"o_HC_FUNDINGID\"]!=\"Canopy\"]"
   ]
  },
  {
   "cell_type": "code",
   "execution_count": 866,
   "id": "early-writer",
   "metadata": {},
   "outputs": [
    {
     "data": {
      "text/plain": [
       "array([3, 0, 1, 4, 2], dtype=int64)"
      ]
     },
     "execution_count": 866,
     "metadata": {},
     "output_type": "execute_result"
    }
   ],
   "source": [
    "df[\"o_HC_FUNDINGID\"].unique()"
   ]
  },
  {
   "cell_type": "code",
   "execution_count": 867,
   "id": "romance-intelligence",
   "metadata": {},
   "outputs": [
    {
     "data": {
      "text/plain": [
       "array([ 7, 10,  0,  3, 14,  6,  5,  8, 13, 12,  1,  4,  9, 15,  2, 11],\n",
       "      dtype=int64)"
      ]
     },
     "execution_count": 867,
     "metadata": {},
     "output_type": "execute_result"
    }
   ],
   "source": [
    "df[\"br_SEGMENT\"].unique()"
   ]
  },
  {
   "cell_type": "code",
   "execution_count": 781,
   "id": "deluxe-fairy",
   "metadata": {},
   "outputs": [],
   "source": [
    "#df=df[df[\"how_long\"]>=0]"
   ]
  },
  {
   "cell_type": "code",
   "execution_count": 35,
   "id": "czech-niagara",
   "metadata": {},
   "outputs": [],
   "source": [
    "del df['o.OPENEDDATE']\n",
    "del df['o_CLOSEDDATE']\n",
    "del df['sq_QUOTATIONEXPIRYDATE']"
   ]
  },
  {
   "cell_type": "code",
   "execution_count": 36,
   "id": "increased-radio",
   "metadata": {},
   "outputs": [
    {
     "ename": "KeyError",
     "evalue": "'o_CLOSEDDATE'",
     "output_type": "error",
     "traceback": [
      "\u001b[1;31m---------------------------------------------------------------------------\u001b[0m",
      "\u001b[1;31mKeyError\u001b[0m                                  Traceback (most recent call last)",
      "\u001b[1;32mD:\\ANACONDA\\lib\\site-packages\\pandas\\core\\indexes\\base.py\u001b[0m in \u001b[0;36mget_loc\u001b[1;34m(self, key, method, tolerance)\u001b[0m\n\u001b[0;32m   2896\u001b[0m             \u001b[1;32mtry\u001b[0m\u001b[1;33m:\u001b[0m\u001b[1;33m\u001b[0m\u001b[1;33m\u001b[0m\u001b[0m\n\u001b[1;32m-> 2897\u001b[1;33m                 \u001b[1;32mreturn\u001b[0m \u001b[0mself\u001b[0m\u001b[1;33m.\u001b[0m\u001b[0m_engine\u001b[0m\u001b[1;33m.\u001b[0m\u001b[0mget_loc\u001b[0m\u001b[1;33m(\u001b[0m\u001b[0mkey\u001b[0m\u001b[1;33m)\u001b[0m\u001b[1;33m\u001b[0m\u001b[1;33m\u001b[0m\u001b[0m\n\u001b[0m\u001b[0;32m   2898\u001b[0m             \u001b[1;32mexcept\u001b[0m \u001b[0mKeyError\u001b[0m\u001b[1;33m:\u001b[0m\u001b[1;33m\u001b[0m\u001b[1;33m\u001b[0m\u001b[0m\n",
      "\u001b[1;32mpandas\\_libs\\index.pyx\u001b[0m in \u001b[0;36mpandas._libs.index.IndexEngine.get_loc\u001b[1;34m()\u001b[0m\n",
      "\u001b[1;32mpandas\\_libs\\index.pyx\u001b[0m in \u001b[0;36mpandas._libs.index.IndexEngine.get_loc\u001b[1;34m()\u001b[0m\n",
      "\u001b[1;32mpandas\\_libs\\hashtable_class_helper.pxi\u001b[0m in \u001b[0;36mpandas._libs.hashtable.PyObjectHashTable.get_item\u001b[1;34m()\u001b[0m\n",
      "\u001b[1;32mpandas\\_libs\\hashtable_class_helper.pxi\u001b[0m in \u001b[0;36mpandas._libs.hashtable.PyObjectHashTable.get_item\u001b[1;34m()\u001b[0m\n",
      "\u001b[1;31mKeyError\u001b[0m: 'o_CLOSEDDATE'",
      "\nDuring handling of the above exception, another exception occurred:\n",
      "\u001b[1;31mKeyError\u001b[0m                                  Traceback (most recent call last)",
      "\u001b[1;32m<ipython-input-36-ca846b0abd66>\u001b[0m in \u001b[0;36m<module>\u001b[1;34m\u001b[0m\n\u001b[0;32m      1\u001b[0m \u001b[1;32mdel\u001b[0m \u001b[0mdf\u001b[0m\u001b[1;33m[\u001b[0m\u001b[1;34m\"o_OPPORTUNITYID\"\u001b[0m\u001b[1;33m]\u001b[0m\u001b[1;33m\u001b[0m\u001b[1;33m\u001b[0m\u001b[0m\n\u001b[0;32m      2\u001b[0m \u001b[1;33m\u001b[0m\u001b[0m\n\u001b[1;32m----> 3\u001b[1;33m \u001b[1;32mdel\u001b[0m \u001b[0mdf\u001b[0m\u001b[1;33m[\u001b[0m\u001b[1;34m\"o_CLOSEDDATE\"\u001b[0m\u001b[1;33m]\u001b[0m\u001b[1;33m\u001b[0m\u001b[1;33m\u001b[0m\u001b[0m\n\u001b[0m\u001b[0;32m      4\u001b[0m \u001b[1;31m#del df['index']\u001b[0m\u001b[1;33m\u001b[0m\u001b[1;33m\u001b[0m\u001b[1;33m\u001b[0m\u001b[0m\n",
      "\u001b[1;32mD:\\ANACONDA\\lib\\site-packages\\pandas\\core\\generic.py\u001b[0m in \u001b[0;36m__delitem__\u001b[1;34m(self, key)\u001b[0m\n\u001b[0;32m   3514\u001b[0m             \u001b[1;31m# there was no match, this call should raise the appropriate\u001b[0m\u001b[1;33m\u001b[0m\u001b[1;33m\u001b[0m\u001b[1;33m\u001b[0m\u001b[0m\n\u001b[0;32m   3515\u001b[0m             \u001b[1;31m# exception:\u001b[0m\u001b[1;33m\u001b[0m\u001b[1;33m\u001b[0m\u001b[1;33m\u001b[0m\u001b[0m\n\u001b[1;32m-> 3516\u001b[1;33m             \u001b[0mself\u001b[0m\u001b[1;33m.\u001b[0m\u001b[0m_data\u001b[0m\u001b[1;33m.\u001b[0m\u001b[0mdelete\u001b[0m\u001b[1;33m(\u001b[0m\u001b[0mkey\u001b[0m\u001b[1;33m)\u001b[0m\u001b[1;33m\u001b[0m\u001b[1;33m\u001b[0m\u001b[0m\n\u001b[0m\u001b[0;32m   3517\u001b[0m \u001b[1;33m\u001b[0m\u001b[0m\n\u001b[0;32m   3518\u001b[0m         \u001b[1;31m# delete from the caches\u001b[0m\u001b[1;33m\u001b[0m\u001b[1;33m\u001b[0m\u001b[1;33m\u001b[0m\u001b[0m\n",
      "\u001b[1;32mD:\\ANACONDA\\lib\\site-packages\\pandas\\core\\internals\\managers.py\u001b[0m in \u001b[0;36mdelete\u001b[1;34m(self, item)\u001b[0m\n\u001b[0;32m    994\u001b[0m         \u001b[0mDelete\u001b[0m \u001b[0mselected\u001b[0m \u001b[0mitem\u001b[0m \u001b[1;33m(\u001b[0m\u001b[0mitems\u001b[0m \u001b[1;32mif\u001b[0m \u001b[0mnon\u001b[0m\u001b[1;33m-\u001b[0m\u001b[0munique\u001b[0m\u001b[1;33m)\u001b[0m \u001b[1;32min\u001b[0m\u001b[1;33m-\u001b[0m\u001b[0mplace\u001b[0m\u001b[1;33m.\u001b[0m\u001b[1;33m\u001b[0m\u001b[1;33m\u001b[0m\u001b[0m\n\u001b[0;32m    995\u001b[0m         \"\"\"\n\u001b[1;32m--> 996\u001b[1;33m         \u001b[0mindexer\u001b[0m \u001b[1;33m=\u001b[0m \u001b[0mself\u001b[0m\u001b[1;33m.\u001b[0m\u001b[0mitems\u001b[0m\u001b[1;33m.\u001b[0m\u001b[0mget_loc\u001b[0m\u001b[1;33m(\u001b[0m\u001b[0mitem\u001b[0m\u001b[1;33m)\u001b[0m\u001b[1;33m\u001b[0m\u001b[1;33m\u001b[0m\u001b[0m\n\u001b[0m\u001b[0;32m    997\u001b[0m \u001b[1;33m\u001b[0m\u001b[0m\n\u001b[0;32m    998\u001b[0m         \u001b[0mis_deleted\u001b[0m \u001b[1;33m=\u001b[0m \u001b[0mnp\u001b[0m\u001b[1;33m.\u001b[0m\u001b[0mzeros\u001b[0m\u001b[1;33m(\u001b[0m\u001b[0mself\u001b[0m\u001b[1;33m.\u001b[0m\u001b[0mshape\u001b[0m\u001b[1;33m[\u001b[0m\u001b[1;36m0\u001b[0m\u001b[1;33m]\u001b[0m\u001b[1;33m,\u001b[0m \u001b[0mdtype\u001b[0m\u001b[1;33m=\u001b[0m\u001b[0mnp\u001b[0m\u001b[1;33m.\u001b[0m\u001b[0mbool_\u001b[0m\u001b[1;33m)\u001b[0m\u001b[1;33m\u001b[0m\u001b[1;33m\u001b[0m\u001b[0m\n",
      "\u001b[1;32mD:\\ANACONDA\\lib\\site-packages\\pandas\\core\\indexes\\base.py\u001b[0m in \u001b[0;36mget_loc\u001b[1;34m(self, key, method, tolerance)\u001b[0m\n\u001b[0;32m   2897\u001b[0m                 \u001b[1;32mreturn\u001b[0m \u001b[0mself\u001b[0m\u001b[1;33m.\u001b[0m\u001b[0m_engine\u001b[0m\u001b[1;33m.\u001b[0m\u001b[0mget_loc\u001b[0m\u001b[1;33m(\u001b[0m\u001b[0mkey\u001b[0m\u001b[1;33m)\u001b[0m\u001b[1;33m\u001b[0m\u001b[1;33m\u001b[0m\u001b[0m\n\u001b[0;32m   2898\u001b[0m             \u001b[1;32mexcept\u001b[0m \u001b[0mKeyError\u001b[0m\u001b[1;33m:\u001b[0m\u001b[1;33m\u001b[0m\u001b[1;33m\u001b[0m\u001b[0m\n\u001b[1;32m-> 2899\u001b[1;33m                 \u001b[1;32mreturn\u001b[0m \u001b[0mself\u001b[0m\u001b[1;33m.\u001b[0m\u001b[0m_engine\u001b[0m\u001b[1;33m.\u001b[0m\u001b[0mget_loc\u001b[0m\u001b[1;33m(\u001b[0m\u001b[0mself\u001b[0m\u001b[1;33m.\u001b[0m\u001b[0m_maybe_cast_indexer\u001b[0m\u001b[1;33m(\u001b[0m\u001b[0mkey\u001b[0m\u001b[1;33m)\u001b[0m\u001b[1;33m)\u001b[0m\u001b[1;33m\u001b[0m\u001b[1;33m\u001b[0m\u001b[0m\n\u001b[0m\u001b[0;32m   2900\u001b[0m         \u001b[0mindexer\u001b[0m \u001b[1;33m=\u001b[0m \u001b[0mself\u001b[0m\u001b[1;33m.\u001b[0m\u001b[0mget_indexer\u001b[0m\u001b[1;33m(\u001b[0m\u001b[1;33m[\u001b[0m\u001b[0mkey\u001b[0m\u001b[1;33m]\u001b[0m\u001b[1;33m,\u001b[0m \u001b[0mmethod\u001b[0m\u001b[1;33m=\u001b[0m\u001b[0mmethod\u001b[0m\u001b[1;33m,\u001b[0m \u001b[0mtolerance\u001b[0m\u001b[1;33m=\u001b[0m\u001b[0mtolerance\u001b[0m\u001b[1;33m)\u001b[0m\u001b[1;33m\u001b[0m\u001b[1;33m\u001b[0m\u001b[0m\n\u001b[0;32m   2901\u001b[0m         \u001b[1;32mif\u001b[0m \u001b[0mindexer\u001b[0m\u001b[1;33m.\u001b[0m\u001b[0mndim\u001b[0m \u001b[1;33m>\u001b[0m \u001b[1;36m1\u001b[0m \u001b[1;32mor\u001b[0m \u001b[0mindexer\u001b[0m\u001b[1;33m.\u001b[0m\u001b[0msize\u001b[0m \u001b[1;33m>\u001b[0m \u001b[1;36m1\u001b[0m\u001b[1;33m:\u001b[0m\u001b[1;33m\u001b[0m\u001b[1;33m\u001b[0m\u001b[0m\n",
      "\u001b[1;32mpandas\\_libs\\index.pyx\u001b[0m in \u001b[0;36mpandas._libs.index.IndexEngine.get_loc\u001b[1;34m()\u001b[0m\n",
      "\u001b[1;32mpandas\\_libs\\index.pyx\u001b[0m in \u001b[0;36mpandas._libs.index.IndexEngine.get_loc\u001b[1;34m()\u001b[0m\n",
      "\u001b[1;32mpandas\\_libs\\hashtable_class_helper.pxi\u001b[0m in \u001b[0;36mpandas._libs.hashtable.PyObjectHashTable.get_item\u001b[1;34m()\u001b[0m\n",
      "\u001b[1;32mpandas\\_libs\\hashtable_class_helper.pxi\u001b[0m in \u001b[0;36mpandas._libs.hashtable.PyObjectHashTable.get_item\u001b[1;34m()\u001b[0m\n",
      "\u001b[1;31mKeyError\u001b[0m: 'o_CLOSEDDATE'"
     ]
    }
   ],
   "source": [
    "del df[\"o_OPPORTUNITYID\"]\n",
    "\n",
    "del df[\"o_CLOSEDDATE\"]\n",
    "#del df['index']"
   ]
  },
  {
   "cell_type": "code",
   "execution_count": 784,
   "id": "competitive-tutorial",
   "metadata": {},
   "outputs": [],
   "source": [
    "#from sklearn.preprocessing import LabelEncoder\n",
    "#is_nan = df['o_HC_FUNDINGID'].isnull()\n",
    "#df['o_HC_FUNDINGID']=pd.Series(LabelEncoder().fit_transform(df['o_HC_FUNDINGID']), index=df.index).where(~is_nan, 0)"
   ]
  },
  {
   "cell_type": "code",
   "execution_count": 785,
   "id": "theoretical-charger",
   "metadata": {},
   "outputs": [],
   "source": [
    "#df=df.iloc[:14999]"
   ]
  },
  {
   "cell_type": "code",
   "execution_count": 868,
   "id": "powerful-check",
   "metadata": {},
   "outputs": [],
   "source": [
    "#df=df[df[\"o_HC_FUNDINGID\"]!=0]\n",
    "#df=df[df[\"br_SEGMENT\"]!=0]"
   ]
  },
  {
   "cell_type": "code",
   "execution_count": null,
   "id": "sweet-gross",
   "metadata": {},
   "outputs": [],
   "source": [
    "del df[\"o_OPPORTUNITYID\"]\n",
    "\n",
    "del df['ID']"
   ]
  },
  {
   "cell_type": "code",
   "execution_count": 38,
   "id": "interpreted-occurrence",
   "metadata": {},
   "outputs": [
    {
     "name": "stdout",
     "output_type": "stream",
     "text": [
      "Executing shutdown due to inactivity...\n"
     ]
    },
    {
     "name": "stderr",
     "output_type": "stream",
     "text": [
      "2021-06-18 14:51:00,298 - INFO     - Executing shutdown due to inactivity...\n"
     ]
    },
    {
     "name": "stdout",
     "output_type": "stream",
     "text": [
      "Executing shutdown...\n"
     ]
    },
    {
     "name": "stderr",
     "output_type": "stream",
     "text": [
      "2021-06-18 14:51:39,328 - INFO     - Executing shutdown...\n"
     ]
    }
   ],
   "source": [
    "import dtale\n",
    "d = dtale.show(df)\n",
    "d.open_browser()"
   ]
  },
  {
   "cell_type": "code",
   "execution_count": null,
   "id": "lovely-analyst",
   "metadata": {},
   "outputs": [],
   "source": []
  }
 ],
 "metadata": {
  "kernelspec": {
   "display_name": "Python 3 (ipykernel)",
   "language": "python",
   "name": "python3"
  },
  "language_info": {
   "codemirror_mode": {
    "name": "ipython",
    "version": 3
   },
   "file_extension": ".py",
   "mimetype": "text/x-python",
   "name": "python",
   "nbconvert_exporter": "python",
   "pygments_lexer": "ipython3",
   "version": "3.9.7"
  }
 },
 "nbformat": 4,
 "nbformat_minor": 5
}
